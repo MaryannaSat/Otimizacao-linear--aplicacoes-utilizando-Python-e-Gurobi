{
 "cells": [
  {
   "cell_type": "code",
   "execution_count": 69,
   "metadata": {},
   "outputs": [],
   "source": [
    "import gurobipy as gp"
   ]
  },
  {
   "cell_type": "code",
   "execution_count": 70,
   "metadata": {},
   "outputs": [],
   "source": [
    "def le_dados(nome_arq):\n",
    "    with open(nome_arq, 'r') as f:\n",
    "        linhas = f.readlines()#ler linhas\n",
    "        #strip= tirar espacamento\n",
    "        #split=  separando ou dividindo as palavras em todos os espaços em branco\n",
    "        valores = linhas[0].strip().split(' ')#elemento da linha 0\n",
    "        qtd_itens = int(valores[0])#linha 0 e coluna 0\n",
    "        capacidade = int(valores[1])#linha 0 e coluna 1\n",
    "        #vetores de  valor e peso\n",
    "        vet_pesos = list()\n",
    "        vet_valores = list()\n",
    "        del(linhas[0]) #apagar a primeira linha\n",
    "        for linha in linhas:\n",
    "            valores = linha.strip().split(' ')\n",
    "            vet_pesos.append(int(valores[0]))\n",
    "            vet_valores.append(int(valores[1]))\n",
    "        #rotulo\n",
    "        itens = list()\n",
    "        for i in range(qtd_itens):\n",
    "            rotulo = 'Item_{}'.format(i + 1)\n",
    "            itens.append(rotulo)\n",
    "        #dicionario peso e valores\n",
    "        pesos = dict()\n",
    "        for idx, peso in enumerate(vet_pesos):\n",
    "            rotulo = itens[idx]\n",
    "            pesos[rotulo] = peso\n",
    "        valores = dict()\n",
    "        for idx, valor in enumerate(vet_valores):\n",
    "            rotulo = itens[idx]\n",
    "            valores[rotulo] = valor\n",
    "    return itens, capacidade, pesos, valores"
   ]
  },
  {
   "cell_type": "code",
   "execution_count": 71,
   "metadata": {},
   "outputs": [],
   "source": [
    "def solve_ProblemaMochila(nome_arq):\n",
    "    #ler dados\n",
    "    itens, capacidade, pesos, valores = le_dados(nome_arq)\n",
    "    # construir o modelo\n",
    "    m = gp.Model()\n",
    "    # variaveis\n",
    "    x = m.addVars(itens, vtype=gp.GRB.BINARY)\n",
    "    # função objetiva\n",
    "    m.setObjective(gp.quicksum(x[i] * valores[i] for i in itens),\n",
    "                   sense=gp.GRB.MAXIMIZE) \n",
    "    # restrição\n",
    "    c = m.addConstr(gp.quicksum(x[i] * pesos[i] for i in itens) <= capacidade)   \n",
    "    # executar\n",
    "    m.optimize()   \n",
    "    # lista dos itens incluídos na mochila\n",
    "    lista_mochila = list()\n",
    "    for item in itens:\n",
    "        if round(x[item].X) == 1:\n",
    "            lista_mochila.append(item)    \n",
    "    return m.objVal, lista_mochila"
   ]
  },
  {
   "cell_type": "code",
   "execution_count": 72,
   "metadata": {},
   "outputs": [
    {
     "name": "stdout",
     "output_type": "stream",
     "text": [
      "Gurobi Optimizer version 9.0.3 build v9.0.3rc0 (win64)\n",
      "Optimize a model with 1 rows, 6 columns and 6 nonzeros\n",
      "Model fingerprint: 0x6d4de7ba\n",
      "Variable types: 0 continuous, 6 integer (6 binary)\n",
      "Coefficient statistics:\n",
      "  Matrix range     [2e+00, 6e+00]\n",
      "  Objective range  [1e+00, 6e+00]\n",
      "  Bounds range     [1e+00, 1e+00]\n",
      "  RHS range        [1e+01, 1e+01]\n",
      "Found heuristic solution: objective 7.0000000\n",
      "Presolve removed 1 rows and 6 columns\n",
      "Presolve time: 0.00s\n",
      "Presolve: All rows and columns removed\n",
      "\n",
      "Explored 0 nodes (0 simplex iterations) in 0.01 seconds\n",
      "Thread count was 1 (of 8 available processors)\n",
      "\n",
      "Solution count 2: 16 \n",
      "\n",
      "Optimal solution found (tolerance 1.00e-04)\n",
      "Best objective 1.600000000000e+01, best bound 1.600000000000e+01, gap 0.0000%\n",
      "16.0\n",
      "['Item_1', 'Item_3', 'Item_5', 'Item_6']\n"
     ]
    }
   ],
   "source": [
    "arq = 'InstanciaPM.txt'\n",
    "resultado, lista_mochila = solve_ProblemaMochila(arq)\n",
    "print(resultado)\n",
    "print(lista_mochila)"
   ]
  },
  {
   "cell_type": "code",
   "execution_count": null,
   "metadata": {},
   "outputs": [],
   "source": []
  },
  {
   "cell_type": "code",
   "execution_count": null,
   "metadata": {},
   "outputs": [],
   "source": []
  },
  {
   "cell_type": "code",
   "execution_count": null,
   "metadata": {},
   "outputs": [],
   "source": []
  }
 ],
 "metadata": {
  "kernelspec": {
   "display_name": "Python 3 (ipykernel)",
   "language": "python",
   "name": "python3"
  },
  "language_info": {
   "codemirror_mode": {
    "name": "ipython",
    "version": 3
   },
   "file_extension": ".py",
   "mimetype": "text/x-python",
   "name": "python",
   "nbconvert_exporter": "python",
   "pygments_lexer": "ipython3",
   "version": "3.7.7"
  }
 },
 "nbformat": 4,
 "nbformat_minor": 4
}
