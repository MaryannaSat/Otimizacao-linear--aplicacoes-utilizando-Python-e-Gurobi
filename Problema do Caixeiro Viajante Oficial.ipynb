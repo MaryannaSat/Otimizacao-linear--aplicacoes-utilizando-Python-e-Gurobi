{
 "cells": [
  {
   "cell_type": "code",
   "execution_count": 1,
   "metadata": {},
   "outputs": [],
   "source": [
    "import gurobipy as gp"
   ]
  },
  {
   "cell_type": "code",
   "execution_count": 2,
   "metadata": {},
   "outputs": [],
   "source": [
    "def le_dados(nome_arq):\n",
    "    with open(nome_arq, 'r') as f:\n",
    "        linhas = f.readlines()#ler linhas\n",
    "        valores = linhas[0].strip().split(' ')\n",
    "        qtd_cidades = int(valores[0])\n",
    "        #Vetores de x e y\n",
    "        xi = list()\n",
    "        yi = list()\n",
    "        del(linhas[0])\n",
    "        for linha in linhas:\n",
    "            valores = linha.strip().split(' ')\n",
    "            xi.append(int(valores[0]))\n",
    "            yi.append(int(valores[1]))\n",
    "\n",
    "    #retornar dados\n",
    "    return qtd_cidades, xi,  yi"
   ]
  },
  {
   "cell_type": "code",
   "execution_count": 3,
   "metadata": {},
   "outputs": [],
   "source": [
    "def dist(x, y, cidades):\n",
    "    from math import sqrt\n",
    "    custo = list()\n",
    "    b = list()\n",
    "    for i, xi in enumerate(x):\n",
    "        for j, yi in enumerate(y):\n",
    "            if j == 0:\n",
    "                a = (x[j] - x[i]) ** 2 + (y[j] - y[i]) ** 2\n",
    "                b.append(sqrt(a))\n",
    "            if j != cidades - 1:\n",
    "                a = (x[j + 1] - x[i]) ** 2 + (y[j + 1] - y[i]) ** 2\n",
    "                b.append(sqrt(a))\n",
    "        custo.append(b[:])\n",
    "        b.clear()\n",
    "    print()\n",
    "    return custo"
   ]
  },
  {
   "cell_type": "code",
   "execution_count": 4,
   "metadata": {},
   "outputs": [],
   "source": [
    "def solve_CaixeiroViajante(nome_arq):\n",
    "    #ler dados\n",
    "    cidades, x, y = le_dados(nome_arq)\n",
    "\n",
    "    mat_custos = dist(x, y, cidades)\n",
    "\n",
    "    # Indices dos pontos de origem e destino\n",
    "    origens = [i + 1 for i in range(cidades)]\n",
    "    destinos = [i + 1 for i in range(cidades)]\n",
    "\n",
    "    # Dicionário dos custos\n",
    "    custos = dict()\n",
    "    for i, origem in enumerate(origens):\n",
    "        for j, destino in enumerate(destinos):\n",
    "            custos[origem, destino] = mat_custos[i][j]\n",
    "\n",
    "    # iniciar o modelo\n",
    "\n",
    "    m = gp.Model()\n",
    "\n",
    "    # variaveis de decisão\n",
    "    x = m.addVars(origens, destinos, vtype=gp.GRB.BINARY)\n",
    "    u = m.addVars(origens[1:], vtype=gp.GRB.INTEGER, ub = cidades - 1)\n",
    "\n",
    "    # Função Obj\n",
    "\n",
    "    m.setObjective(x.prod(custos), sense=gp.GRB.MINIMIZE)\n",
    "\n",
    "    # restrições de origem\n",
    "    c1 = m.addConstrs(\n",
    "        gp.quicksum(x[i, j] for j in destinos if i != j) == 1\n",
    "        for i in origens)\n",
    "\n",
    "    # restrições de destino\n",
    "    c2 = m.addConstrs(\n",
    "        gp.quicksum(x[i, j] for i in origens if i != j) == 1\n",
    "        for j in destinos)\n",
    "\n",
    "    # restrições de eliminação de subrotas(MTZ)\n",
    "\n",
    "    c3 = m.addConstrs(\n",
    "        u[i] - u[j] + cidades * x[i, j] <= cidades - 1\n",
    "        for i in origens[1:] for j in destinos[1:] if i != j\n",
    "    )\n",
    "    \n",
    "\n",
    "    m.optimize()\n",
    "    # Constrói o vetor com o circuito,\n",
    "    circuito = [1]\n",
    "    anterior = 1\n",
    "    for ponto in range(cidades):\n",
    "        for j in destinos:\n",
    "            if round(x[anterior, j].X) == 1:\n",
    "                circuito.append(j)\n",
    "                anterior = j\n",
    "                break\n",
    "    return m.objVal,circuito, "
   ]
  },
  {
   "cell_type": "code",
   "execution_count": 5,
   "metadata": {},
   "outputs": [
    {
     "name": "stdout",
     "output_type": "stream",
     "text": [
      "\n",
      "Using license file C:\\Users\\marya\\gurobi.lic\n"
     ]
    },
    {
     "ename": "GurobiError",
     "evalue": "License expired 2021-12-07",
     "output_type": "error",
     "traceback": [
      "\u001b[1;31m---------------------------------------------------------------------------\u001b[0m",
      "\u001b[1;31mGurobiError\u001b[0m                               Traceback (most recent call last)",
      "\u001b[1;32m~\\AppData\\Local\\Temp/ipykernel_17788/338190306.py\u001b[0m in \u001b[0;36m<module>\u001b[1;34m\u001b[0m\n\u001b[0;32m      1\u001b[0m \u001b[0marq\u001b[0m \u001b[1;33m=\u001b[0m \u001b[1;34m'TSP.txt'\u001b[0m\u001b[1;33m\u001b[0m\u001b[1;33m\u001b[0m\u001b[0m\n\u001b[1;32m----> 2\u001b[1;33m \u001b[0mresultado\u001b[0m\u001b[1;33m,\u001b[0m \u001b[0mcircuito\u001b[0m \u001b[1;33m=\u001b[0m \u001b[0msolve_CaixeiroViajante\u001b[0m\u001b[1;33m(\u001b[0m\u001b[0marq\u001b[0m\u001b[1;33m)\u001b[0m\u001b[1;33m\u001b[0m\u001b[1;33m\u001b[0m\u001b[0m\n\u001b[0m\u001b[0;32m      3\u001b[0m \u001b[0mprint\u001b[0m\u001b[1;33m(\u001b[0m\u001b[0mresultado\u001b[0m\u001b[1;33m)\u001b[0m\u001b[1;33m\u001b[0m\u001b[1;33m\u001b[0m\u001b[0m\n\u001b[0;32m      4\u001b[0m \u001b[0mprint\u001b[0m\u001b[1;33m(\u001b[0m\u001b[0mcircuito\u001b[0m\u001b[1;33m)\u001b[0m\u001b[1;33m\u001b[0m\u001b[1;33m\u001b[0m\u001b[0m\n",
      "\u001b[1;32m~\\AppData\\Local\\Temp/ipykernel_17788/4200506142.py\u001b[0m in \u001b[0;36msolve_CaixeiroViajante\u001b[1;34m(nome_arq)\u001b[0m\n\u001b[0;32m     17\u001b[0m     \u001b[1;31m# iniciar o modelo\u001b[0m\u001b[1;33m\u001b[0m\u001b[1;33m\u001b[0m\u001b[1;33m\u001b[0m\u001b[0m\n\u001b[0;32m     18\u001b[0m \u001b[1;33m\u001b[0m\u001b[0m\n\u001b[1;32m---> 19\u001b[1;33m     \u001b[0mm\u001b[0m \u001b[1;33m=\u001b[0m \u001b[0mgp\u001b[0m\u001b[1;33m.\u001b[0m\u001b[0mModel\u001b[0m\u001b[1;33m(\u001b[0m\u001b[1;33m)\u001b[0m\u001b[1;33m\u001b[0m\u001b[1;33m\u001b[0m\u001b[0m\n\u001b[0m\u001b[0;32m     20\u001b[0m \u001b[1;33m\u001b[0m\u001b[0m\n\u001b[0;32m     21\u001b[0m     \u001b[1;31m# variaveis de decisão\u001b[0m\u001b[1;33m\u001b[0m\u001b[1;33m\u001b[0m\u001b[1;33m\u001b[0m\u001b[0m\n",
      "\u001b[1;32menv.pxi\u001b[0m in \u001b[0;36mgurobipy.Env.__init__\u001b[1;34m()\u001b[0m\n",
      "\u001b[1;32mgurobi.pxi\u001b[0m in \u001b[0;36mgurobipy.gurobi._getdefaultenv\u001b[1;34m()\u001b[0m\n",
      "\u001b[1;32menv.pxi\u001b[0m in \u001b[0;36mgurobipy.Env.__init__\u001b[1;34m()\u001b[0m\n",
      "\u001b[1;31mGurobiError\u001b[0m: License expired 2021-12-07"
     ]
    }
   ],
   "source": [
    "arq = 'TSP.txt'\n",
    "resultado, circuito = solve_CaixeiroViajante(arq)\n",
    "print(resultado)\n",
    "print(circuito)"
   ]
  },
  {
   "cell_type": "code",
   "execution_count": null,
   "metadata": {},
   "outputs": [],
   "source": []
  },
  {
   "cell_type": "code",
   "execution_count": null,
   "metadata": {},
   "outputs": [],
   "source": []
  },
  {
   "cell_type": "code",
   "execution_count": null,
   "metadata": {},
   "outputs": [],
   "source": []
  }
 ],
 "metadata": {
  "kernelspec": {
   "display_name": "Python 3 (ipykernel)",
   "language": "python",
   "name": "python3"
  },
  "language_info": {
   "codemirror_mode": {
    "name": "ipython",
    "version": 3
   },
   "file_extension": ".py",
   "mimetype": "text/x-python",
   "name": "python",
   "nbconvert_exporter": "python",
   "pygments_lexer": "ipython3",
   "version": "3.7.7"
  }
 },
 "nbformat": 4,
 "nbformat_minor": 4
}
