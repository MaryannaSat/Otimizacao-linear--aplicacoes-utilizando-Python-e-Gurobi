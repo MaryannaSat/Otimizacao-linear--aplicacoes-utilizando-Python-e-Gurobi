{
 "cells": [
  {
   "cell_type": "code",
   "execution_count": 2,
   "metadata": {},
   "outputs": [],
   "source": [
    "import gurobipy as gp"
   ]
  },
  {
   "cell_type": "code",
   "execution_count": 3,
   "metadata": {},
   "outputs": [
    {
     "name": "stdout",
     "output_type": "stream",
     "text": [
      "Using license file C:\\Users\\marya\\gurobi.lic\n",
      "Academic license - for non-commercial use only\n",
      "Gurobi Optimizer version 9.0.3 build v9.0.3rc0 (win64)\n",
      "Optimize a model with 2 rows, 3 columns and 6 nonzeros\n",
      "Model fingerprint: 0x88f5aba3\n",
      "Coefficient statistics:\n",
      "  Matrix range     [5e-01, 4e+00]\n",
      "  Objective range  [6e+02, 1e+03]\n",
      "  Bounds range     [0e+00, 0e+00]\n",
      "  RHS range        [2e+01, 6e+01]\n",
      "Presolve time: 0.02s\n",
      "Presolved: 2 rows, 3 columns, 6 nonzeros\n",
      "\n",
      "Iteration    Objective       Primal Inf.    Dual Inf.      Time\n",
      "       0    3.2500000e+33   4.750000e+30   3.250000e+03      0s\n",
      "       3    2.9400000e+04   0.000000e+00   0.000000e+00      0s\n",
      "\n",
      "Solved in 3 iterations and 0.03 seconds\n",
      "Optimal objective  2.940000000e+04\n"
     ]
    }
   ],
   "source": [
    "m = gp.Model(\"Exemplo 2.1\")\n",
    "\n",
    "x1 = m.addVar()\n",
    "x2 = m.addVar()\n",
    "x3 = m.addVar()\n",
    "\n",
    "\n",
    "m.setObjective(600 * x1 + 1400 * x2 + 1300 * x3, sense=gp.GRB.MAXIMIZE)\n",
    "\n",
    "\n",
    "c1 = m.addConstr(0.5 * x1 + 2 * x2 + x3 <= 24)\n",
    "c2 = m.addConstr(x1 + 2 * x2 + 4 * x3 <= 60)\n",
    "\n",
    "\n",
    "m.optimize()"
   ]
  },
  {
   "cell_type": "code",
   "execution_count": 5,
   "metadata": {},
   "outputs": [
    {
     "name": "stdout",
     "output_type": "stream",
     "text": [
      "x1 = 36.0\n",
      "x2 = -0.0\n",
      "x3 = 6.0\n",
      "Valor da solução: 29400.0\n"
     ]
    }
   ],
   "source": [
    "print(\"x1 =\", x1.X)\n",
    "print(\"x2 =\", x2.X)\n",
    "print(\"x3 =\", x3.X)\n",
    "print(\"Valor da solução:\", m.ObjVal)"
   ]
  },
  {
   "cell_type": "code",
   "execution_count": null,
   "metadata": {},
   "outputs": [],
   "source": []
  },
  {
   "cell_type": "code",
   "execution_count": null,
   "metadata": {},
   "outputs": [],
   "source": []
  },
  {
   "cell_type": "code",
   "execution_count": null,
   "metadata": {},
   "outputs": [],
   "source": []
  }
 ],
 "metadata": {
  "kernelspec": {
   "display_name": "Python 3 (ipykernel)",
   "language": "python",
   "name": "python3"
  },
  "language_info": {
   "codemirror_mode": {
    "name": "ipython",
    "version": 3
   },
   "file_extension": ".py",
   "mimetype": "text/x-python",
   "name": "python",
   "nbconvert_exporter": "python",
   "pygments_lexer": "ipython3",
   "version": "3.9.0"
  }
 },
 "nbformat": 4,
 "nbformat_minor": 4
}
