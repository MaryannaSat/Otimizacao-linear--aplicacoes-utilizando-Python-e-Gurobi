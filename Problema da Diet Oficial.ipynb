{
 "cells": [
  {
   "cell_type": "code",
   "execution_count": 6,
   "metadata": {},
   "outputs": [],
   "source": [
    "import gurobipy as gp"
   ]
  },
  {
   "cell_type": "code",
   "execution_count": 9,
   "metadata": {},
   "outputs": [
    {
     "name": "stdout",
     "output_type": "stream",
     "text": [
      "Gurobi Optimizer version 9.0.3 build v9.0.3rc0 (win64)\n",
      "Optimize a model with 3 rows, 4 columns and 12 nonzeros\n",
      "Model fingerprint: 0x389399b5\n",
      "Coefficient statistics:\n",
      "  Matrix range     [2e+00, 5e+01]\n",
      "  Objective range  [1e+00, 3e+00]\n",
      "  Bounds range     [0e+00, 0e+00]\n",
      "  RHS range        [2e+01, 1e+02]\n",
      "Presolve removed 0 rows and 2 columns\n",
      "Presolve time: 0.00s\n",
      "Presolved: 3 rows, 2 columns, 6 nonzeros\n",
      "\n",
      "Iteration    Objective       Primal Inf.    Dual Inf.      Time\n",
      "       0    0.0000000e+00   2.062500e+01   0.000000e+00      0s\n",
      "       2    4.8642734e+00   0.000000e+00   0.000000e+00      0s\n",
      "\n",
      "Solved in 2 iterations and 0.01 seconds\n",
      "Optimal objective  4.864273387e+00\n"
     ]
    }
   ],
   "source": [
    "m = gp.Model(\"Exemplo Diet\")\n",
    "\n",
    "x1 = m.addVar()\n",
    "x2 = m.addVar()\n",
    "x3 = m.addVar()\n",
    "x4 = m.addVar()\n",
    "\n",
    "m.setObjective(2.5 * x1 + 3 * x2 + 1.3 * x3 + 1.5 * x4, sense=gp.GRB.MINIMIZE) #Função Obj.\n",
    "\n",
    "c1 = m.addConstr(28.34 * x1 + 54 * x2 + 32.66 * x3 + 3.45 * x4 >= 100)#Carboidrato\n",
    "c2 = m.addConstr(6.37 * x1 + 6.10 * x2 + 12.08 * x3 + 20.43 * x4 >= 45)#Proteina\n",
    "c3 = m.addConstr(4.22 * x1 + 4.2 * x2 + 2.04 * x3 + 21.42 * x4 >= 22)#Gordura total\n",
    "\n",
    "m.optimize()"
   ]
  },
  {
   "cell_type": "code",
   "execution_count": 8,
   "metadata": {},
   "outputs": [
    {
     "name": "stdout",
     "output_type": "stream",
     "text": [
      "x1 = 0.0\n",
      "x2 = 0.0\n",
      "x3 = 2.983369028063682\n",
      "x4 = 0.7429471140406203\n",
      "Valor da solução: 4.992800407543717\n"
     ]
    }
   ],
   "source": [
    "print(\"x1 =\", x1.X)\n",
    "print(\"x2 =\", x2.X)\n",
    "print(\"x3 =\", x3.X)\n",
    "print(\"x4 =\", x4.X)\n",
    "print(\"Valor da solução:\", m.ObjVal)"
   ]
  },
  {
   "cell_type": "code",
   "execution_count": null,
   "metadata": {},
   "outputs": [],
   "source": []
  },
  {
   "cell_type": "code",
   "execution_count": null,
   "metadata": {},
   "outputs": [],
   "source": []
  },
  {
   "cell_type": "code",
   "execution_count": null,
   "metadata": {},
   "outputs": [],
   "source": []
  }
 ],
 "metadata": {
  "kernelspec": {
   "display_name": "Python 3",
   "language": "python",
   "name": "python3"
  },
  "language_info": {
   "codemirror_mode": {
    "name": "ipython",
    "version": 3
   },
   "file_extension": ".py",
   "mimetype": "text/x-python",
   "name": "python",
   "nbconvert_exporter": "python",
   "pygments_lexer": "ipython3",
   "version": "3.7.6"
  }
 },
 "nbformat": 4,
 "nbformat_minor": 4
}
